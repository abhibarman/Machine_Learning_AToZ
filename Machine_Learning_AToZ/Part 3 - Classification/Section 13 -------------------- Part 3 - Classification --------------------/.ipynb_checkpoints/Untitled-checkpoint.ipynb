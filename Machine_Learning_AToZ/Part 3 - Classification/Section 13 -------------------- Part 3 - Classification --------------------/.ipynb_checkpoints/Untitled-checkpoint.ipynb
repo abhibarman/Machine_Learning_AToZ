{
 "cells": [
  {
   "cell_type": "raw",
   "metadata": {},
   "source": [
    "Welcome to Part 3 - Classification\n",
    "Section 11, Lecture 81\n",
    "Welcome to Part 3 - Classification!\n",
    "\n",
    "\n",
    "\n",
    "Unlike regression where you predict a continuous number, you use classification to predict a category. There is a wide variety of classification applications from medicine to marketing. Classification models include linear models like Logistic Regression, SVM, and nonlinear ones like K-NN, Kernel SVM and Random Forests.\n",
    "\n",
    "In this part, you will understand and learn how to implement the following Machine Learning Classification models:\n",
    "\n",
    "Logistic Regression\n",
    "K-Nearest Neighbors (K-NN)\n",
    "Support Vector Machine (SVM)\n",
    "Kernel SVM\n",
    "Naive Bayes\n",
    "Decision Tree Classification\n",
    "Random Forest Classification\n",
    "\n",
    "\n",
    "Enjoy Machine Learning!"
   ]
  },
  {
   "cell_type": "code",
   "execution_count": null,
   "metadata": {
    "collapsed": true
   },
   "outputs": [],
   "source": []
  }
 ],
 "metadata": {
  "kernelspec": {
   "display_name": "Python 3",
   "language": "python",
   "name": "python3"
  }
 },
 "nbformat": 4,
 "nbformat_minor": 2
}
